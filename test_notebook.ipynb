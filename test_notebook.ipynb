{
 "cells": [
  {
   "cell_type": "code",
   "execution_count": 21,
   "metadata": {},
   "outputs": [
    {
     "name": "stdout",
     "output_type": "stream",
     "text": [
      "<class 'pandas.core.frame.DataFrame'>\n",
      "RangeIndex: 988 entries, 0 to 987\n",
      "Data columns (total 20 columns):\n",
      " #   Column                Non-Null Count  Dtype  \n",
      "---  ------                --------------  -----  \n",
      " 0   ID                    988 non-null    object \n",
      " 1   Category              988 non-null    object \n",
      " 2   Title                 988 non-null    object \n",
      " 3   Description           900 non-null    object \n",
      " 4   Amenities             988 non-null    object \n",
      " 5   Location              988 non-null    object \n",
      " 6   guests                969 non-null    object \n",
      " 7   beds                  945 non-null    float64\n",
      " 8   bathrooms             888 non-null    float64\n",
      " 9   Price_Night           988 non-null    int64  \n",
      " 10  Cleanliness_rating    890 non-null    float64\n",
      " 11  Accuracy_rating       890 non-null    float64\n",
      " 12  Communication_rating  890 non-null    float64\n",
      " 13  Location_rating       890 non-null    float64\n",
      " 14  Check-in_rating       890 non-null    float64\n",
      " 15  Value_rating          890 non-null    float64\n",
      " 16  amenities_count       988 non-null    float64\n",
      " 17  url                   988 non-null    object \n",
      " 18  bedrooms              906 non-null    object \n",
      " 19  Unnamed: 19           1 non-null      float64\n",
      "dtypes: float64(10), int64(1), object(9)\n",
      "memory usage: 154.5+ KB\n"
     ]
    }
   ],
   "source": [
    "import pandas as pd\n",
    "\n",
    "df = pd.read_csv(\"tabular_data\\listing.csv\").info()"
   ]
  },
  {
   "cell_type": "code",
   "execution_count": 22,
   "metadata": {},
   "outputs": [
    {
     "ename": "AttributeError",
     "evalue": "'NoneType' object has no attribute 'dropna'",
     "output_type": "error",
     "traceback": [
      "\u001b[1;31m---------------------------------------------------------------------------\u001b[0m",
      "\u001b[1;31mAttributeError\u001b[0m                            Traceback (most recent call last)",
      "\u001b[1;32m~\\AppData\\Local\\Temp/ipykernel_3284/2033842817.py\u001b[0m in \u001b[0;36m<module>\u001b[1;34m\u001b[0m\n\u001b[1;32m----> 1\u001b[1;33m \u001b[0mdf\u001b[0m\u001b[1;33m.\u001b[0m\u001b[0mdropna\u001b[0m\u001b[1;33m(\u001b[0m\u001b[0msubset\u001b[0m\u001b[1;33m=\u001b[0m\u001b[1;33m[\u001b[0m\u001b[1;34m\"Accuracy_rating\"\u001b[0m\u001b[1;33m]\u001b[0m\u001b[1;33m,\u001b[0m \u001b[0minplace\u001b[0m \u001b[1;33m=\u001b[0m \u001b[1;32mTrue\u001b[0m\u001b[1;33m)\u001b[0m\u001b[1;33m\u001b[0m\u001b[1;33m\u001b[0m\u001b[0m\n\u001b[0m",
      "\u001b[1;31mAttributeError\u001b[0m: 'NoneType' object has no attribute 'dropna'"
     ]
    }
   ],
   "source": [
    "df.dropna(subset=[\"Accuracy_rating\"], inplace = True)"
   ]
  }
 ],
 "metadata": {
  "kernelspec": {
   "display_name": "base",
   "language": "python",
   "name": "python3"
  },
  "language_info": {
   "codemirror_mode": {
    "name": "ipython",
    "version": 3
   },
   "file_extension": ".py",
   "mimetype": "text/x-python",
   "name": "python",
   "nbconvert_exporter": "python",
   "pygments_lexer": "ipython3",
   "version": "3.9.7"
  },
  "orig_nbformat": 4,
  "vscode": {
   "interpreter": {
    "hash": "e1e488304739508dec9f042d542b0c62dbe5239598d401b9baf3a7e5073f914f"
   }
  }
 },
 "nbformat": 4,
 "nbformat_minor": 2
}
